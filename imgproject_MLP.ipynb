{
  "nbformat": 4,
  "nbformat_minor": 0,
  "metadata": {
    "colab": {
      "name": "imgproject_MLP.ipynb",
      "provenance": [],
      "collapsed_sections": [],
      "authorship_tag": "ABX9TyNDgVPGoQEHblqpSgj56SM0",
      "include_colab_link": true
    },
    "kernelspec": {
      "name": "python3",
      "display_name": "Python 3"
    },
    "language_info": {
      "name": "python"
    }
  },
  "cells": [
    {
      "cell_type": "markdown",
      "metadata": {
        "id": "view-in-github",
        "colab_type": "text"
      },
      "source": [
        "<a href=\"https://colab.research.google.com/github/Siddhant2307/ideal-giggle/blob/master/imgproject_MLP.ipynb\" target=\"_parent\"><img src=\"https://colab.research.google.com/assets/colab-badge.svg\" alt=\"Open In Colab\"/></a>"
      ]
    },
    {
      "cell_type": "code",
      "metadata": {
        "colab": {
          "base_uri": "https://localhost:8080/"
        },
        "id": "_GakpUSabvi4",
        "outputId": "4c5abba0-1d59-437e-d334-989223f9e7d9"
      },
      "source": [
        "\n",
        "from keras.datasets import fashion_mnist\n",
        "from tensorflow.keras.utils import to_categorical\n",
        "import numpy as np\n",
        "import matplotlib.pyplot as plt\n",
        "\n",
        "\n",
        "(trainX,trainy),(testX,testy)=fashion_mnist.load_data()\n",
        "def load_dataset():\n",
        "  (trainX,trainy),(testX,testy)=fashion_mnist.load_data()\n",
        "  trainX=trainX.reshape((trainX.shape[0],28,28,1))\n",
        "  testX=testX.reshape((testX.shape[0],28,28,1))\n",
        "  trainy=to_categorical(trainy)\n",
        "  testy=to_categorical(testy)\n",
        "  return trainX,trainy,testX,testy\n",
        "np.unique(trainy)\n",
        "\n",
        "seed=2\n",
        "from sklearn.model_selection import StratifiedShuffleSplit\n",
        "data_split=StratifiedShuffleSplit(test_size=0.75,random_state=seed)\n",
        "for train_index,test_index in data_split.split(trainX,trainy):\n",
        "    split_data_65,split_data_35=trainX[train_index],trainX[test_index]\n",
        "    split_label_65,split_label_35=trainy[train_index],trainy[test_index]\n",
        "train_test_split=StratifiedShuffleSplit(test_size=0.3,random_state=seed)\n",
        "for train_index,test_index in train_test_split.split(split_data_65,split_label_65):\n",
        "    train_data_70,test_data_30=split_data_65[train_index],split_data_65[test_index]\n",
        "    train_label_70,test_label_30=split_label_65[train_index],split_label_65[test_index]\n",
        "train_data=train_data_70\n",
        "train_label=train_label_70\n",
        "test_data=test_data_30\n",
        "test_label=test_label_30\n",
        "print(\"train data :\",train_data.shape)\n",
        "print(\"train label : \",train_label.shape)\n",
        "print(\"test data :\",test_data.shape)    \n",
        "print(\"test label : \",test_label.shape)\n",
        "class_names=['T-shirt/top','Trouser','Pullover','Dress','Coat','Sandal','Shirt','Sneaker','Bag','Ankle boot']\n",
        "\n",
        "\n",
        "train_data=train_data.astype('float64')/255.0\n",
        "test_data=test_data.astype('float64')/255.0\n",
        "\n",
        "train_data_flat=train_data.reshape(train_data.shape[0],-1)\n",
        "test_data_flat=test_data.reshape(test_data.shape[0],-1)\n",
        "print(\"train data flat :\",train_data_flat.shape)\n",
        "print(\"test data flat :\",test_data_flat.shape)\n",
        "train_data_flat_t=train_data_flat\n",
        "test_data_flat_t=test_data_flat\n",
        "train_data_flat_t=train_data_flat\n",
        "test_data_flat_t=test_data_flat"
      ],
      "execution_count": 1,
      "outputs": [
        {
          "output_type": "stream",
          "name": "stdout",
          "text": [
            "Downloading data from https://storage.googleapis.com/tensorflow/tf-keras-datasets/train-labels-idx1-ubyte.gz\n",
            "32768/29515 [=================================] - 0s 0us/step\n",
            "40960/29515 [=========================================] - 0s 0us/step\n",
            "Downloading data from https://storage.googleapis.com/tensorflow/tf-keras-datasets/train-images-idx3-ubyte.gz\n",
            "26427392/26421880 [==============================] - 0s 0us/step\n",
            "26435584/26421880 [==============================] - 0s 0us/step\n",
            "Downloading data from https://storage.googleapis.com/tensorflow/tf-keras-datasets/t10k-labels-idx1-ubyte.gz\n",
            "16384/5148 [===============================================================================================] - 0s 0us/step\n",
            "Downloading data from https://storage.googleapis.com/tensorflow/tf-keras-datasets/t10k-images-idx3-ubyte.gz\n",
            "4423680/4422102 [==============================] - 0s 0us/step\n",
            "4431872/4422102 [==============================] - 0s 0us/step\n",
            "train data : (10500, 28, 28)\n",
            "train label :  (10500,)\n",
            "test data : (4500, 28, 28)\n",
            "test label :  (4500,)\n",
            "train data flat : (10500, 784)\n",
            "test data flat : (4500, 784)\n"
          ]
        }
      ]
    },
    {
      "cell_type": "code",
      "metadata": {
        "colab": {
          "base_uri": "https://localhost:8080/"
        },
        "id": "j-JmSDvdcDIo",
        "outputId": "63bf9124-a7fe-4bba-8cdc-8fb3c6f36d19"
      },
      "source": [
        "from sklearn.decomposition import PCA\n",
        "train_data_pca=PCA(n_components=min(train_data.shape)).fit_transform(train_data_flat)\n",
        "test_data_pca=PCA(n_components=min(test_data.shape)).fit_transform(test_data_flat)\n",
        "print(train_data_pca.shape)\n",
        "print(test_data_pca.shape)"
      ],
      "execution_count": 2,
      "outputs": [
        {
          "output_type": "stream",
          "name": "stdout",
          "text": [
            "(10500, 28)\n",
            "(4500, 28)\n"
          ]
        }
      ]
    },
    {
      "cell_type": "code",
      "metadata": {
        "colab": {
          "base_uri": "https://localhost:8080/"
        },
        "id": "ve-HV-BfcQrO",
        "outputId": "55c27410-242d-48c4-85af-56e2caaf04b6"
      },
      "source": [
        "from skimage import color\n",
        "def svdFeatures(input_data):\n",
        "  svdArray_input_data=[]\n",
        "  size=input_data.shape[0]\n",
        "  for i in range(0,size):\n",
        "    U,s,V=np.linalg.svd(input_data[i],full_matrices=False)\n",
        "    S=[s[i] for i in range(28)]\n",
        "    svdArray_input_data.append(S)\n",
        "    svdMatrix_input_data=np.matrix(svdArray_input_data)\n",
        "  return svdMatrix_input_data\n",
        "\n",
        "train_data_svd=svdFeatures(train_data)\n",
        "test_data_svd=svdFeatures(test_data)\n",
        "print(train_data_svd.shape)\n",
        "print(test_data_svd.shape)"
      ],
      "execution_count": 3,
      "outputs": [
        {
          "output_type": "stream",
          "name": "stdout",
          "text": [
            "(10500, 28)\n",
            "(4500, 28)\n"
          ]
        }
      ]
    },
    {
      "cell_type": "code",
      "metadata": {
        "colab": {
          "base_uri": "https://localhost:8080/"
        },
        "id": "PlTrIc2NcjkP",
        "outputId": "87031e98-651d-472b-de00-a620bdfcbcf4"
      },
      "source": [
        "from sklearn.neural_network import MLPClassifier\n",
        "from sklearn import metrics\n",
        "MLP1=MLPClassifier()\n",
        "MLP1.fit(train_data_flat_t,train_label)\n",
        "\n",
        "mlp_predict1 = MLP1.predict(test_data_flat_t)\n",
        "score1 = MLP1.score(test_data_flat_t,test_label)\n",
        "print(\"score\", score1)\n",
        "\n",
        "Confusion_Matrix1 = metrics.confusion_matrix(test_label, mlp_predict1)\n",
        "print(\"Confusion Matrix\",Confusion_Matrix1)"
      ],
      "execution_count": 6,
      "outputs": [
        {
          "output_type": "stream",
          "name": "stdout",
          "text": [
            "score 0.8686666666666667\n",
            "Confusion Matrix [[387   1  11  13   1   0  31   0   6   0]\n",
            " [  1 433   1   9   3   0   3   0   0   0]\n",
            " [  6   2 369   5  42   1  24   0   1   0]\n",
            " [ 20  11   3 398  12   0   6   0   0   0]\n",
            " [  4   2  32  24 359   0  27   0   2   0]\n",
            " [  0   0   0   0   0 424   0  16   3   7]\n",
            " [ 66   2  47  15  41   0 271   0   8   0]\n",
            " [  0   0   0   0   0  11   0 423   1  15]\n",
            " [  2   1   5   6   2   3   5   3 423   0]\n",
            " [  0   0   0   0   0   8   0  18   2 422]]\n"
          ]
        }
      ]
    },
    {
      "cell_type": "code",
      "metadata": {
        "colab": {
          "base_uri": "https://localhost:8080/"
        },
        "id": "YbXvBFsJdR0f",
        "outputId": "fd2e66f6-75b6-4937-8cb9-4dcf717a0740"
      },
      "source": [
        "from sklearn.neural_network import MLPClassifier\n",
        "from sklearn import metrics\n",
        "MLP2=MLPClassifier()\n",
        "MLP2.fit(train_data_pca,train_label)\n",
        "\n",
        "mlp_predict2 = MLP2.predict(test_data_pca)\n",
        "score2 = MLP2.score(test_data_pca,test_label)\n",
        "print(\"score\", score2)\n",
        "\n",
        "Confusion_Matrix2 = metrics.confusion_matrix(test_label, mlp_predict2)\n",
        "print(\"Confusion Matrix\",Confusion_Matrix2)"
      ],
      "execution_count": 8,
      "outputs": [
        {
          "output_type": "stream",
          "name": "stdout",
          "text": [
            "score 0.4653333333333333\n",
            "Confusion Matrix [[279  11   9  64   2   2  78   1   4   0]\n",
            " [ 10 278  28 115   2   1  16   0   0   0]\n",
            " [ 20  35 119   2  94   5 139   0  36   0]\n",
            " [ 33 190  36 118  43   8  16   1   4   1]\n",
            " [  5   7 113   8 165   1 145   0   6   0]\n",
            " [  7   0   0   0   0 332   2  61  21  27]\n",
            " [ 74   5  51  28 105  14 158   1  13   1]\n",
            " [  0   0   0   0   0  59   0 171 198  22]\n",
            " [ 10   0  15   1   7  53  46   4 204 110]\n",
            " [  4   0   0   4   3  20  10 107  32 270]]\n"
          ]
        },
        {
          "output_type": "stream",
          "name": "stderr",
          "text": [
            "/usr/local/lib/python3.7/dist-packages/sklearn/neural_network/_multilayer_perceptron.py:571: ConvergenceWarning: Stochastic Optimizer: Maximum iterations (200) reached and the optimization hasn't converged yet.\n",
            "  % self.max_iter, ConvergenceWarning)\n"
          ]
        }
      ]
    },
    {
      "cell_type": "code",
      "metadata": {
        "colab": {
          "base_uri": "https://localhost:8080/"
        },
        "id": "gnQJHT0IdqrJ",
        "outputId": "6d715010-c27d-484c-bbf3-0d671fad9f9c"
      },
      "source": [
        "from sklearn.neural_network import MLPClassifier\n",
        "from sklearn import metrics\n",
        "MLP3=MLPClassifier()\n",
        "MLP3.fit(train_data_svd,train_label)\n",
        "\n",
        "mlp_predict3 = MLP3.predict(test_data_svd)\n",
        "score3 = MLP3.score(test_data_svd,test_label)\n",
        "print(\"score\", score3)\n",
        "\n",
        "Confusion_Matrix3 = metrics.confusion_matrix(test_label, mlp_predict3)\n",
        "print(\"Confusion Matrix\",Confusion_Matrix3)"
      ],
      "execution_count": 9,
      "outputs": [
        {
          "output_type": "stream",
          "name": "stdout",
          "text": [
            "score 0.6355555555555555\n",
            "Confusion Matrix [[231   0  29  40  41   3  46   6  27  27]\n",
            " [  3 357   0  59   3   8   2  15   0   3]\n",
            " [ 44   0 177  11 102   4  75   1  29   7]\n",
            " [ 17  48   9 258  20  14   6  56  14   8]\n",
            " [ 27   3  52  35 233   8  57   5  21   9]\n",
            " [  0   4   0   5   3 359   4  63   6   6]\n",
            " [ 51   0  42  31  79  14 167   1  45  20]\n",
            " [  0   2   0  15   3  46   2 330   2  50]\n",
            " [  6   2   4  15   9   8  20  12 374   0]\n",
            " [ 27   1   1   2   4  11   4  24   2 374]]\n"
          ]
        },
        {
          "output_type": "stream",
          "name": "stderr",
          "text": [
            "/usr/local/lib/python3.7/dist-packages/sklearn/neural_network/_multilayer_perceptron.py:571: ConvergenceWarning: Stochastic Optimizer: Maximum iterations (200) reached and the optimization hasn't converged yet.\n",
            "  % self.max_iter, ConvergenceWarning)\n"
          ]
        }
      ]
    }
  ]
}