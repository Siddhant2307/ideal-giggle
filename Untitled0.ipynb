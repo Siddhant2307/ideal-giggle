{
  "nbformat": 4,
  "nbformat_minor": 0,
  "metadata": {
    "colab": {
      "name": "Untitled0.ipynb",
      "provenance": [],
      "authorship_tag": "ABX9TyMpj1WPdu//v2bnDZylG1Oj",
      "include_colab_link": true
    },
    "kernelspec": {
      "name": "python3",
      "display_name": "Python 3"
    },
    "language_info": {
      "name": "python"
    }
  },
  "cells": [
    {
      "cell_type": "markdown",
      "metadata": {
        "id": "view-in-github",
        "colab_type": "text"
      },
      "source": [
        "<a href=\"https://colab.research.google.com/github/Siddhant2307/ideal-giggle/blob/master/Untitled0.ipynb\" target=\"_parent\"><img src=\"https://colab.research.google.com/assets/colab-badge.svg\" alt=\"Open In Colab\"/></a>"
      ]
    },
    {
      "cell_type": "code",
      "metadata": {
        "colab": {
          "base_uri": "https://localhost:8080/"
        },
        "id": "_JYm5qLFNuEV",
        "outputId": "92c33264-7528-46ab-bc09-2f6c933df03c"
      },
      "source": [
        "from keras.datasets import fashion_mnist\n",
        "from tensorflow.keras.utils import to_categorical\n",
        "import numpy as np\n",
        "import matplotlib.pyplot as plt\n",
        "\n",
        "(trainX,trainy),(testX,testy)=fashion_mnist.load_data()\n",
        "def load_dataset():\n",
        "  (trainX,trainy),(testX,testy)=fashion_mnist.load_data()\n",
        "  trainX=trainX.reshape((trainX.shape[0],28,28,1))\n",
        "  testX=testX.reshape((testX.shape[0],28,28,1))\n",
        "  trainy=to_categorical(trainy)\n",
        "  testy=to_categorical(testy)\n",
        "  return trainX,trainy,testX,testy\n",
        "np.unique(trainy)\n",
        "\n",
        "seed=2\n",
        "from sklearn.model_selection import StratifiedShuffleSplit\n",
        "data_split=StratifiedShuffleSplit(test_size=0.75,random_state=seed)\n",
        "for train_index,test_index in data_split.split(trainX,trainy):\n",
        "    split_data_65,split_data_35=trainX[train_index],trainX[test_index]\n",
        "    split_label_65,split_label_35=trainy[train_index],trainy[test_index]\n",
        "train_test_split=StratifiedShuffleSplit(test_size=0.3,random_state=seed)\n",
        "for train_index,test_index in train_test_split.split(split_data_65,split_label_65):\n",
        "    train_data_70,test_data_30=split_data_65[train_index],split_data_65[test_index]\n",
        "    train_label_70,test_label_30=split_label_65[train_index],split_label_65[test_index]\n",
        "train_data=train_data_70\n",
        "train_label=train_label_70\n",
        "test_data=test_data_30\n",
        "test_label=test_label_30\n",
        "print(\"train data :\",train_data.shape)\n",
        "print(\"train label : \",train_label.shape)\n",
        "print(\"test data :\",test_data.shape)    \n",
        "print(\"test label : \",test_label.shape)\n",
        "class_names=['T-shirt/top','Trouser','Pullover','Dress','Coat','Sandal','Shirt','Sneaker','Bag','Ankle boot']\n",
        "\n",
        "\n",
        "train_data=train_data.astype('float64')/255.0\n",
        "test_data=test_data.astype('float64')/255.0\n",
        "\n",
        "train_data_flat=train_data.reshape(train_data.shape[0],-1)\n",
        "test_data_flat=test_data.reshape(test_data.shape[0],-1)\n",
        "print(\"train data flat :\",train_data_flat.shape)\n",
        "print(\"test data flat :\",test_data_flat.shape)\n",
        "train_data_flat_t=train_data_flat\n",
        "test_data_flat_t=test_data_flat\n",
        "train_data_flat_t=train_data_flat\n",
        "test_data_flat_t=test_data_flat"
      ],
      "execution_count": 1,
      "outputs": [
        {
          "output_type": "stream",
          "text": [
            "Downloading data from https://storage.googleapis.com/tensorflow/tf-keras-datasets/train-labels-idx1-ubyte.gz\n",
            "32768/29515 [=================================] - 0s 0us/step\n",
            "40960/29515 [=========================================] - 0s 0us/step\n",
            "Downloading data from https://storage.googleapis.com/tensorflow/tf-keras-datasets/train-images-idx3-ubyte.gz\n",
            "26427392/26421880 [==============================] - 0s 0us/step\n",
            "26435584/26421880 [==============================] - 0s 0us/step\n",
            "Downloading data from https://storage.googleapis.com/tensorflow/tf-keras-datasets/t10k-labels-idx1-ubyte.gz\n",
            "16384/5148 [===============================================================================================] - 0s 0us/step\n",
            "Downloading data from https://storage.googleapis.com/tensorflow/tf-keras-datasets/t10k-images-idx3-ubyte.gz\n",
            "4423680/4422102 [==============================] - 0s 0us/step\n",
            "4431872/4422102 [==============================] - 0s 0us/step\n",
            "train data : (10500, 28, 28)\n",
            "train label :  (10500,)\n",
            "test data : (4500, 28, 28)\n",
            "test label :  (4500,)\n",
            "train data flat : (10500, 784)\n",
            "test data flat : (4500, 784)\n"
          ],
          "name": "stdout"
        }
      ]
    },
    {
      "cell_type": "code",
      "metadata": {
        "colab": {
          "base_uri": "https://localhost:8080/"
        },
        "id": "QFZIzTgnN2YY",
        "outputId": "baeee812-e0fb-4c8c-8736-141de1713686"
      },
      "source": [
        "from sklearn.decomposition import PCA\n",
        "train_data_pca=PCA(n_components=min(train_data.shape)).fit_transform(train_data_flat)\n",
        "test_data_pca=PCA(n_components=min(test_data.shape)).fit_transform(test_data_flat)\n",
        "print(train_data_pca.shape)\n",
        "print(test_data_pca.shape)\n"
      ],
      "execution_count": 2,
      "outputs": [
        {
          "output_type": "stream",
          "text": [
            "(10500, 28)\n",
            "(4500, 28)\n"
          ],
          "name": "stdout"
        }
      ]
    },
    {
      "cell_type": "code",
      "metadata": {
        "colab": {
          "base_uri": "https://localhost:8080/"
        },
        "id": "2VkA2_PQN7UJ",
        "outputId": "aba0a778-dc15-4ee4-dfbd-fe801b3befb4"
      },
      "source": [
        "from skimage import color\n",
        "def svdFeatures(input_data):\n",
        "  svdArray_input_data=[]\n",
        "  size=input_data.shape[0]\n",
        "  for i in range(0,size):\n",
        "    U,s,V=np.linalg.svd(input_data[i],full_matrices=False)\n",
        "    S=[s[i] for i in range(28)]\n",
        "    svdArray_input_data.append(S)\n",
        "    svdMatrix_input_data=np.matrix(svdArray_input_data)\n",
        "  return svdMatrix_input_data\n",
        "\n",
        "train_data_svd=svdFeatures(train_data)\n",
        "test_data_svd=svdFeatures(test_data)\n",
        "print(train_data_svd.shape)\n",
        "print(test_data_svd.shape)"
      ],
      "execution_count": 3,
      "outputs": [
        {
          "output_type": "stream",
          "text": [
            "(10500, 28)\n",
            "(4500, 28)\n"
          ],
          "name": "stdout"
        }
      ]
    }
  ]
}