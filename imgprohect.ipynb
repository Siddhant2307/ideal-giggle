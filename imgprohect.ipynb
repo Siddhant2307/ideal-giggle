{
  "nbformat": 4,
  "nbformat_minor": 0,
  "metadata": {
    "colab": {
      "name": "Untitled0.ipynb",
      "provenance": [],
      "collapsed_sections": [],
      "authorship_tag": "ABX9TyPjqfPpr/4MOBvy+BLH57TS",
      "include_colab_link": true
    },
    "kernelspec": {
      "name": "python3",
      "display_name": "Python 3"
    },
    "language_info": {
      "name": "python"
    }
  },
  "cells": [
    {
      "cell_type": "markdown",
      "metadata": {
        "id": "view-in-github",
        "colab_type": "text"
      },
      "source": [
        "<a href=\"https://colab.research.google.com/github/Siddhant2307/ideal-giggle/blob/master/imgprohect.ipynb\" target=\"_parent\"><img src=\"https://colab.research.google.com/assets/colab-badge.svg\" alt=\"Open In Colab\"/></a>"
      ]
    },
    {
      "cell_type": "code",
      "metadata": {
        "colab": {
          "base_uri": "https://localhost:8080/"
        },
        "id": "_JYm5qLFNuEV",
        "outputId": "98e5a53f-1f1f-4127-ee7f-a9aa6ce5ba69"
      },
      "source": [
        "\n",
        "from keras.datasets import fashion_mnist\n",
        "from tensorflow.keras.utils import to_categorical\n",
        "import numpy as np\n",
        "import matplotlib.pyplot as plt\n",
        "\n",
        "\n",
        "(trainX,trainy),(testX,testy)=fashion_mnist.load_data()\n",
        "def load_dataset():\n",
        "  (trainX,trainy),(testX,testy)=fashion_mnist.load_data()\n",
        "  trainX=trainX.reshape((trainX.shape[0],28,28,1))\n",
        "  testX=testX.reshape((testX.shape[0],28,28,1))\n",
        "  trainy=to_categorical(trainy)\n",
        "  testy=to_categorical(testy)\n",
        "  return trainX,trainy,testX,testy\n",
        "np.unique(trainy)\n",
        "\n",
        "seed=2\n",
        "from sklearn.model_selection import StratifiedShuffleSplit\n",
        "data_split=StratifiedShuffleSplit(test_size=0.75,random_state=seed)\n",
        "for train_index,test_index in data_split.split(trainX,trainy):\n",
        "    split_data_65,split_data_35=trainX[train_index],trainX[test_index]\n",
        "    split_label_65,split_label_35=trainy[train_index],trainy[test_index]\n",
        "train_test_split=StratifiedShuffleSplit(test_size=0.3,random_state=seed)\n",
        "for train_index,test_index in train_test_split.split(split_data_65,split_label_65):\n",
        "    train_data_70,test_data_30=split_data_65[train_index],split_data_65[test_index]\n",
        "    train_label_70,test_label_30=split_label_65[train_index],split_label_65[test_index]\n",
        "train_data=train_data_70\n",
        "train_label=train_label_70\n",
        "test_data=test_data_30\n",
        "test_label=test_label_30\n",
        "print(\"train data :\",train_data.shape)\n",
        "print(\"train label : \",train_label.shape)\n",
        "print(\"test data :\",test_data.shape)    \n",
        "print(\"test label : \",test_label.shape)\n",
        "class_names=['T-shirt/top','Trouser','Pullover','Dress','Coat','Sandal','Shirt','Sneaker','Bag','Ankle boot']\n",
        "\n",
        "\n",
        "train_data=train_data.astype('float64')/255.0\n",
        "test_data=test_data.astype('float64')/255.0\n",
        "\n",
        "train_data_flat=train_data.reshape(train_data.shape[0],-1)\n",
        "test_data_flat=test_data.reshape(test_data.shape[0],-1)\n",
        "print(\"train data flat :\",train_data_flat.shape)\n",
        "print(\"test data flat :\",test_data_flat.shape)\n",
        "train_data_flat_t=train_data_flat\n",
        "test_data_flat_t=test_data_flat\n",
        "train_data_flat_t=train_data_flat\n",
        "test_data_flat_t=test_data_flat"
      ],
      "execution_count": 14,
      "outputs": [
        {
          "output_type": "stream",
          "name": "stdout",
          "text": [
            "train data : (10500, 28, 28)\n",
            "train label :  (10500,)\n",
            "test data : (4500, 28, 28)\n",
            "test label :  (4500,)\n",
            "train data flat : (10500, 784)\n",
            "test data flat : (4500, 784)\n"
          ]
        }
      ]
    },
    {
      "cell_type": "code",
      "metadata": {
        "colab": {
          "base_uri": "https://localhost:8080/"
        },
        "id": "QFZIzTgnN2YY",
        "outputId": "9415db43-c984-4918-baf0-18a4d29009b9"
      },
      "source": [
        "from sklearn.decomposition import PCA\n",
        "train_data_pca=PCA(n_components=min(train_data.shape)).fit_transform(train_data_flat)\n",
        "test_data_pca=PCA(n_components=min(test_data.shape)).fit_transform(test_data_flat)\n",
        "print(train_data_pca.shape)\n",
        "print(test_data_pca.shape)\n"
      ],
      "execution_count": 4,
      "outputs": [
        {
          "output_type": "stream",
          "name": "stdout",
          "text": [
            "(10500, 28)\n",
            "(4500, 28)\n"
          ]
        }
      ]
    },
    {
      "cell_type": "code",
      "metadata": {
        "colab": {
          "base_uri": "https://localhost:8080/"
        },
        "id": "2VkA2_PQN7UJ",
        "outputId": "c6b6c2d1-2228-4311-fbf1-b29c1d2d5f4b"
      },
      "source": [
        "from skimage import color\n",
        "def svdFeatures(input_data):\n",
        "  svdArray_input_data=[]\n",
        "  size=input_data.shape[0]\n",
        "  for i in range(0,size):\n",
        "    U,s,V=np.linalg.svd(input_data[i],full_matrices=False)\n",
        "    S=[s[i] for i in range(28)]\n",
        "    svdArray_input_data.append(S)\n",
        "    svdMatrix_input_data=np.matrix(svdArray_input_data)\n",
        "  return svdMatrix_input_data\n",
        "\n",
        "train_data_svd=svdFeatures(train_data)\n",
        "test_data_svd=svdFeatures(test_data)\n",
        "print(train_data_svd.shape)\n",
        "print(test_data_svd.shape)"
      ],
      "execution_count": 5,
      "outputs": [
        {
          "output_type": "stream",
          "name": "stdout",
          "text": [
            "(10500, 28)\n",
            "(4500, 28)\n"
          ]
        }
      ]
    },
    {
      "cell_type": "code",
      "metadata": {
        "colab": {
          "base_uri": "https://localhost:8080/"
        },
        "id": "PZIiAlNU4bMs",
        "outputId": "45cd8c02-16b4-4f2a-da9c-434fcd581dcb"
      },
      "source": [
        "\n",
        "from sklearn.svm import SVC\n",
        "from sklearn.metrics import confusion_matrix\n",
        "clf=SVC(kernel='linear',gamma=0.001, probability =True , random_state=0)\n",
        "clf.fit(train_data_flat_t,train_label)"
      ],
      "execution_count": 25,
      "outputs": [
        {
          "output_type": "execute_result",
          "data": {
            "text/plain": [
              "SVC(C=1.0, break_ties=False, cache_size=200, class_weight=None, coef0=0.0,\n",
              "    decision_function_shape='ovr', degree=3, gamma=0.001, kernel='linear',\n",
              "    max_iter=-1, probability=True, random_state=0, shrinking=True, tol=0.001,\n",
              "    verbose=False)"
            ]
          },
          "metadata": {},
          "execution_count": 25
        }
      ]
    },
    {
      "cell_type": "code",
      "metadata": {
        "id": "wGjuu34i_Im0"
      },
      "source": [
        "predict1=clf.predict(test_data_flat_t)"
      ],
      "execution_count": 26,
      "outputs": []
    },
    {
      "cell_type": "code",
      "metadata": {
        "colab": {
          "base_uri": "https://localhost:8080/"
        },
        "id": "-fyQj7UF_XIp",
        "outputId": "e142098e-9a7e-430b-ee5c-4c53b1b77dd0"
      },
      "source": [
        "score=clf.score(test_data_flat_t,test_label)\n",
        "print('score:',score)\n",
        "conf_matrix=confusion_matrix(test_label,predict1)\n",
        "print('Confusion matrix : ',conf_matrix)\n"
      ],
      "execution_count": 27,
      "outputs": [
        {
          "output_type": "stream",
          "name": "stdout",
          "text": [
            "score: 0.8291111111111111\n",
            "Confusion matrix :  [[369   1   9  23   1   0  41   0   6   0]\n",
            " [  3 431   3   8   1   0   3   0   0   1]\n",
            " [  6   0 337   8  60   0  39   0   0   0]\n",
            " [ 34  11   5 373  12   0  15   0   0   0]\n",
            " [  7   0  50  17 334   0  41   0   1   0]\n",
            " [  1   0   0   0   0 422   0  16   2   9]\n",
            " [ 72   2  74  13  51   0 228   0  10   0]\n",
            " [  0   0   0   0   0  18   0 415   0  17]\n",
            " [  5   1   9   7   3   5   8   3 409   0]\n",
            " [  1   0   0   0   0  16   0  19   1 413]]\n"
          ]
        }
      ]
    },
    {
      "cell_type": "code",
      "metadata": {
        "colab": {
          "base_uri": "https://localhost:8080/"
        },
        "id": "l-ioTURlAAXR",
        "outputId": "ff2d607b-63fb-4f40-d2e1-1ee970c1d945"
      },
      "source": [
        "from sklearn.svm import SVC\n",
        "from sklearn.metrics import confusion_matrix\n",
        "clf2=SVC(kernel='linear',gamma=0.001, probability =True , random_state=0)\n",
        "clf2.fit(train_data_pca,train_label)\n",
        "predict2=clf2.predict(test_data_pca)\n",
        "score2=clf2.score(test_data_pca,test_label)\n",
        "print('score:',score2)\n",
        "conf_matrix2=confusion_matrix(test_label,predict2)\n",
        "print('Confusion matrix : ',conf_matrix2)"
      ],
      "execution_count": 28,
      "outputs": [
        {
          "output_type": "stream",
          "name": "stdout",
          "text": [
            "score: 0.5704444444444444\n",
            "Confusion matrix :  [[329  11   4  28   0   1  70   0   7   0]\n",
            " [ 17 356   5  62   3   1   6   0   0   0]\n",
            " [ 24  23 252   6  50   1  82   0  12   0]\n",
            " [ 59 232   5 105  20   2  26   0   1   0]\n",
            " [  6   9 103  18 190   0 119   0   5   0]\n",
            " [ 14   0   0   0   0 274   0  86  26  50]\n",
            " [ 69   6  79  18  90   4 161   0  23   0]\n",
            " [  0   0   0   0   0  42   0 276 106  26]\n",
            " [  1   1  10  10  12  74  27   0 298  17]\n",
            " [ 16   0   0   1   1  39   2  37  28 326]]\n"
          ]
        }
      ]
    },
    {
      "cell_type": "code",
      "metadata": {
        "colab": {
          "base_uri": "https://localhost:8080/"
        },
        "id": "bZ05XkU_A-le",
        "outputId": "9eb224b0-0be5-42ac-d352-c6e8ac158f48"
      },
      "source": [
        "from sklearn.svm import SVC\n",
        "from sklearn.metrics import confusion_matrix\n",
        "clf3=SVC(kernel='linear',gamma=0.001, probability =True , random_state=0)\n",
        "clf3.fit(train_data_svd,train_label)\n",
        "predict3=clf3.predict(test_data_svd)\n",
        "score3=clf3.score(test_data_svd,test_label)\n",
        "print('score:',score3)\n",
        "conf_matrix3=confusion_matrix(test_label,predict3)\n",
        "print('Confusion matrix : ',conf_matrix3)"
      ],
      "execution_count": 30,
      "outputs": [
        {
          "output_type": "stream",
          "name": "stdout",
          "text": [
            "score: 0.5782222222222222\n",
            "Confusion matrix :  [[205  10  22  44  44  24  32  14  20  35]\n",
            " [  4 368   3  44   2  10   0  15   2   2]\n",
            " [ 35   5 203  19  66  25  56   9  25   7]\n",
            " [ 30  93  20 183  13  20   8  60  18   5]\n",
            " [ 40   4  94  39 177  21  47   4  17   7]\n",
            " [  3  14   0   3   2 351   8  59   3   7]\n",
            " [ 61   3  83  33  52  40 113   8  45  12]\n",
            " [  7  15   0  19   1  52   3 300   3  50]\n",
            " [  6   4   3  19   9  13  24  20 352   0]\n",
            " [ 45   1   0   3   2  10   8  30   1 350]]\n"
          ]
        }
      ]
    }
  ]
}